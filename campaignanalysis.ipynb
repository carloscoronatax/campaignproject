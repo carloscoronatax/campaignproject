{
 "cells": [
  {
   "cell_type": "markdown",
   "metadata": {},
   "source": [
    "# Analyzing Corporate Political Spending in Austin: Trends and Insights\n",
    "\n",
    "This project analyzes political spending by companies in Austin, Texas, using a Kaggle dataset. We will investigate average payment amounts, annual expenditure trends, payment types, and the geographical distribution of payees. Additionally, we'll explore the role of political obligations and reimbursements while identifying key themes in expense descriptions. This analysis aims to provide insights into corporate influence in local elections.\n",
    "\n",
    "Following this introduction, the project will address the following key questions:\n",
    "\n",
    "\n",
    "1. **Payment Analysis**: What are the average and median payment amounts made by companies?\n",
    "\n",
    "2. **Annual Expenditures**: What is the trend of annual expenditures based on the payment year? Can you identify any patterns over time?\n",
    "\n",
    "3. **Payment Types**: What are the most common types of payments? Are there significant differences in the amounts paid based on the payment type?\n",
    "\n",
    "4. **Payee Location**: What is the geographic distribution of payees? Do they concentrate in any specific area within Austin, Texas?\n",
    "\n",
    "5. **Political Obligations**: How many payments were made with some political obligation, and how do those amounts compare with others?\n",
    "\n",
    "6. **Reimbursements**: What percentage of payments were intended for reimbursement? Does this affect the total expenditures?\n",
    "\n",
    "7. **Expense Descriptions**: What are the most common keywords in the expense descriptions? Is there any predominant category?\n",
    "\n",
    "\n",
    "\n",
    "**Made by Carlos Corona**"
   ]
  },
  {
   "cell_type": "code",
   "execution_count": 12,
   "metadata": {},
   "outputs": [
    {
     "name": "stdout",
     "output_type": "stream",
     "text": [
      "Hello World\n"
     ]
    }
   ],
   "source": [
    "# Make sure to make this file executable by running\n",
    "print(\"Hello World\")"
   ]
  },
  {
   "cell_type": "code",
   "execution_count": 13,
   "metadata": {},
   "outputs": [],
   "source": [
    "# Importing the libraries\n",
    "import pandas as pd\n",
    "import numpy as np\n",
    "import matplotlib.pyplot as plt"
   ]
  },
  {
   "cell_type": "code",
   "execution_count": null,
   "metadata": {},
   "outputs": [],
   "source": []
  },
  {
   "cell_type": "code",
   "execution_count": null,
   "metadata": {},
   "outputs": [],
   "source": []
  },
  {
   "cell_type": "code",
   "execution_count": null,
   "metadata": {},
   "outputs": [],
   "source": []
  },
  {
   "cell_type": "code",
   "execution_count": null,
   "metadata": {},
   "outputs": [],
   "source": []
  },
  {
   "cell_type": "code",
   "execution_count": null,
   "metadata": {},
   "outputs": [],
   "source": []
  }
 ],
 "metadata": {
  "kernelspec": {
   "display_name": "Python 3",
   "language": "python",
   "name": "python3"
  },
  "language_info": {
   "codemirror_mode": {
    "name": "ipython",
    "version": 3
   },
   "file_extension": ".py",
   "mimetype": "text/x-python",
   "name": "python",
   "nbconvert_exporter": "python",
   "pygments_lexer": "ipython3",
   "version": "3.12.4"
  }
 },
 "nbformat": 4,
 "nbformat_minor": 2
}
