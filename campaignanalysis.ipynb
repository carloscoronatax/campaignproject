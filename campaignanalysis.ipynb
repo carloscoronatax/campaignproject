{
 "cells": [
  {
   "cell_type": "markdown",
   "metadata": {},
   "source": [
    "# Analyzing Company Expenditures and Payees in Campaign Finance Data\n",
    "\n",
    "In this analysis, I explored two key aspects of campaign finance data: average and median payment amounts and identifying top payees. Using pandas, I calculated the following:\n",
    "\n",
    "1. **Average and Median Payment Amounts**: I examined the distribution of payments made by companies, calculating both the average (mean) and median payment amounts to understand typical transaction sizes and detect any skewness in payment data.\n",
    "\n",
    "2. **Top 5 Payees with the Highest Total Expenditures**: By aggregating total expenditures for each payee, I identified the top 5 recipients of company payments. This provides insight into where a significant portion of the company's finances is directed.\n",
    "\n",
    "This analysis reveals core financial patterns, highlighting average transaction sizes and the primary beneficiaries of company spending.\n",
    "\n",
    "\n",
    "\n",
    "**Made by Carlos Corona**"
   ]
  },
  {
   "cell_type": "code",
   "execution_count": 2,
   "metadata": {},
   "outputs": [
    {
     "name": "stdout",
     "output_type": "stream",
     "text": [
      "Hello World\n"
     ]
    }
   ],
   "source": [
    "# Make sure to make this file executable by running\n",
    "print(\"Hello World\")"
   ]
  },
  {
   "cell_type": "code",
   "execution_count": 32,
   "metadata": {},
   "outputs": [],
   "source": [
    "# Importing the libraries\n",
    "import pandas as pd"
   ]
  },
  {
   "cell_type": "markdown",
   "metadata": {},
   "source": [
    "1. What are the average and median payment amounts made by companies? "
   ]
  },
  {
   "cell_type": "code",
   "execution_count": 3,
   "metadata": {},
   "outputs": [
    {
     "name": "stdout",
     "output_type": "stream",
     "text": [
      "The median payments amounts made by companies is $238.31\n",
      "The average payments amounts made by companies is $2,418.04\n"
     ]
    }
   ],
   "source": [
    "# Importing the dataset\n",
    "dataset = pd.read_csv('campaign_finance.csv')\n",
    "\n",
    "# Cleaning the data\n",
    "dataset['Payment_Amount'] = dataset['Payment_Amount'].str.replace('[$,]', '', regex=True).astype(float)\n",
    "\n",
    "# Calculating the average and median payment amounts made by companies\n",
    "median_payment = dataset['Payment_Amount'].median()\n",
    "\n",
    "average_payment = dataset['Payment_Amount'].mean()\n",
    "\n",
    "# Printing the median result and formatting the numbers (with $ and commas)\n",
    "median_number = np.float64(median_payment)\n",
    "formatted_number = \"${:,.2f}\".format(median_number)\n",
    "print('The median payments amounts made by companies is', formatted_number)\n",
    "\n",
    "# Printing the average results and formatting the numbers (with $ and commas)\n",
    "average_number = np.float64(average_payment)\n",
    "formatted_number2 = \"${:,.2f}\".format(average_number)\n",
    "print('The average payments amounts made by companies is', formatted_number2)\n"
   ]
  },
  {
   "cell_type": "markdown",
   "metadata": {},
   "source": [
    "2. What are the top 5 payees with the highest total expenditures?\n",
    "\n"
   ]
  },
  {
   "cell_type": "code",
   "execution_count": 25,
   "metadata": {},
   "outputs": [
    {
     "name": "stdout",
     "output_type": "stream",
     "text": [
      "The top 5 payees and their total expenditure are:\n",
      "The Strategy Group, Inc.: $1,267,472.24\n",
      "Link Strategies LLC: $830,475.00\n",
      "Rindy Miller Media: $814,080.34\n",
      "Rindy & Associates, Inc.: $403,411.00\n",
      "Bully Pulpit Interactive LLC: $250,000.00\n"
     ]
    }
   ],
   "source": [
    "# Calculating the total expenditure for each payee and finding the top 5 payees\n",
    "grouped = dataset.groupby('Payee')\n",
    "\n",
    "# Calculating the total expenditure for each payee\n",
    "total_expendinture = grouped['Payment_Amount'].sum()\n",
    "\n",
    "# Finding the top 5 payees\n",
    "top_5_payees = total_expendinture.nlargest(5)\n",
    "\n",
    "# Printing the top 5 payees and their total expenditure\n",
    "print('The top 5 payees and their total expenditure are:',)\n",
    "for payee, amount in top_5_payees.items():\n",
    "    print(f'{payee}: ${amount:,.2f}')\n",
    "\n"
   ]
  }
 ],
 "metadata": {
  "kernelspec": {
   "display_name": "Python 3",
   "language": "python",
   "name": "python3"
  },
  "language_info": {
   "codemirror_mode": {
    "name": "ipython",
    "version": 3
   },
   "file_extension": ".py",
   "mimetype": "text/x-python",
   "name": "python",
   "nbconvert_exporter": "python",
   "pygments_lexer": "ipython3",
   "version": "3.12.4"
  }
 },
 "nbformat": 4,
 "nbformat_minor": 2
}
